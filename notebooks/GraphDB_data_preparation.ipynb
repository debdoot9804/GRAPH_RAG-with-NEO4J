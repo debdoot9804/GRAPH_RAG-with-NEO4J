{
 "cells": [
  {
   "cell_type": "code",
   "execution_count": 2,
   "id": "bdc73586",
   "metadata": {},
   "outputs": [],
   "source": [
    "from langchain_community.graphs import Neo4jGraph\n",
    "# from neo4j.debug import watch\n",
    "import pandas as pd\n",
    "\n"
   ]
  },
  {
   "cell_type": "code",
   "execution_count": 4,
   "id": "5e5b17a0",
   "metadata": {},
   "outputs": [
    {
     "data": {
      "text/plain": [
       "True"
      ]
     },
     "execution_count": 4,
     "metadata": {},
     "output_type": "execute_result"
    }
   ],
   "source": [
    "from dotenv import load_dotenv\n",
    "import os\n",
    "load_dotenv()"
   ]
  },
  {
   "cell_type": "code",
   "execution_count": 5,
   "id": "302b202e",
   "metadata": {},
   "outputs": [],
   "source": [
    "NEO4J_URI=os.getenv(\"NEO4J_URI\")\n",
    "NEO4J_USERNAME=os.getenv(\"NEO4J_USERNAME\")\n",
    "NEO4J_PASSWORD=os.getenv(\"NEO4J_PASSWORD\")"
   ]
  },
  {
   "cell_type": "code",
   "execution_count": 7,
   "id": "80f31366",
   "metadata": {},
   "outputs": [
    {
     "name": "stderr",
     "output_type": "stream",
     "text": [
      "C:\\Users\\Welcome\\AppData\\Local\\Temp\\ipykernel_12880\\2244984801.py:1: LangChainDeprecationWarning: The class `Neo4jGraph` was deprecated in LangChain 0.3.8 and will be removed in 1.0. An updated version of the class exists in the :class:`~langchain-neo4j package and should be used instead. To use it run `pip install -U :class:`~langchain-neo4j` and import as `from :class:`~langchain_neo4j import Neo4jGraph``.\n",
      "  graph = Neo4jGraph(url=NEO4J_URI, username=NEO4J_USERNAME, password=NEO4J_PASSWORD)\n"
     ]
    }
   ],
   "source": [
    "graph = Neo4jGraph(url=NEO4J_URI, username=NEO4J_USERNAME, password=NEO4J_PASSWORD)"
   ]
  },
  {
   "cell_type": "markdown",
   "id": "b3d0cf04",
   "metadata": {},
   "source": [
    "**Nodes:**\n",
    "- `Movie`: Represents a movie. Each movie node has <u>attributes</u> such as **id** (a unique identifier for the movie), **released** (the release date of the movie), **title** (the movie's title), and **imdbRating** (the movie's rating on IMDb).\n",
    "- `Person`: Represents an individual who can either be an <u>actor</u> or a <u>director</u> (or both) in movies. Each person node has a <u>single attribute</u>, **name**, which is the name of the person.\n",
    "- `Genre`: Represents a movie genre. Each genre node has a <u>single attribute</u>, **name**, which is the genre type (e.g., Action, Comedy, Drama, etc.).\n",
    "- `Location`: Represents the location where the movies was taken. Each location has a single attribute **name**, which is the name of the location (e.g: United States, United Kingdom)\n",
    "- `SimilarMovie`: Rrpresents a similar movie to its corresponding movie. Each similar movie has a single attribute **name**, which is the name of the movie (e.g: Finding Nemo. Which is the similar movie for Toy story)\n",
    "\n",
    "**Relationships:**\n",
    "- `:DIRECTED`: A directional relationship from a Person node to a Movie node, signifying that the person directed the movie.\n",
    "- `:ACTED_IN`: A directional relationship from a Person node to a Movie node, signifying that the person acted in the movie.\n",
    "- `:IN_GENRE`: A directional relationship from a Movie node to a Genre node, signifying that the movie belongs to that particular genre.\n",
    "- `:WAS_TAKEN_IN`: A directional relationship from a Movie node to a Location node, signifying that the movie was taken in that location.\n",
    "- `:IS_SIMILAR_TO`: A directional relationship from a Movie node to a SimilarMovie node, signifying that movies is similar to the one we are looking at.\n",
    "\n",
    "**Instructions in the script:**\n",
    "- `LOAD CSV WITH HEADERS`: Loads a CSV file that contains the movie data with headers indicating each column's purpose.\n",
    "- `MERGE`: Ensures that a node or relationship is created if it does not already exist; otherwise, it matches the existing node or relationship. This prevents duplication.\n",
    "- `SET`: Assigns properties to the nodes after they've been created or matched.\n",
    "- `FOREACH`: Executes the contained commands for each element in a list. This is used to iterate over the lists of directors, actors, and genres associated with each movie. It ensures that all the respective Person and Genre nodes are created and linked appropriately to the Movie nodes."
   ]
  },
  {
   "cell_type": "code",
   "execution_count": 9,
   "id": "be8593f7",
   "metadata": {},
   "outputs": [],
   "source": [
    "movie_data_path=\"E:/KnowledgeGraph+RAG/data/movie.csv\""
   ]
  },
  {
   "cell_type": "code",
   "execution_count": 12,
   "id": "c72ba11b",
   "metadata": {},
   "outputs": [],
   "source": [
    "movie_data_url_github=\"https://raw.githubusercontent.com/debdoot9804/GRAPH_RAG-with-NEO4J/refs/heads/main/data/movie.csv\""
   ]
  },
  {
   "cell_type": "markdown",
   "id": "fafaf09c",
   "metadata": {},
   "source": [
    "**Import movie information from the CSV file with tagline, construct the knowledge graph, and store the data in the Graph database**"
   ]
  },
  {
   "cell_type": "code",
   "execution_count": 15,
   "id": "23369f6e",
   "metadata": {},
   "outputs": [
    {
     "data": {
      "text/plain": [
       "[]"
      ]
     },
     "execution_count": 15,
     "metadata": {},
     "output_type": "execute_result"
    }
   ],
   "source": [
    "graph.query(\"\"\"\n",
    "LOAD CSV WITH HEADERS FROM $data_url   // Load CSV data from a file specified by $movie_directory\n",
    "AS row                                                      // Each row in the CSV will be represented as 'row'\n",
    "            \n",
    "MERGE (m:Movie {id:row.movieId})                            // Merge a Movie node with the id from the row\n",
    "SET m.released = date(row.released),                        // Set the 'released' property of the Movie node to the date from the row\n",
    "    m.title = row.title,                                    // Set the 'title' property of the Movie node to the title from the row\n",
    "    m.tagline = row.tagline,                                // Set the 'tagline' property of the Movie node to the tagline from the row\n",
    "    m.imdbRating = toFloat(row.imdbRating)                  // Convert the 'imdbRating' from string to float and set it as the property\n",
    "            \n",
    "FOREACH (director in split(row.director, '|') |             // For each director in the list of directors from the row (split by '|') \n",
    "    MERGE (p:Person {name:trim(director)})                  // Merge a Person node with the director's name from the row, trimming any extra spaces\n",
    "    MERGE (p)-[:DIRECTED]->(m))                             // Create a DIRECTED relationship from the director to the Movie\n",
    "            \n",
    "FOREACH (actor in split(row.actors, '|') |                  // For each actor in the list of actors from the row (split by '|') \n",
    "    MERGE (p:Person {name:trim(actor)})                     // Merge a Person node with the actor's name from the row, trimming any extra spaces\n",
    "    MERGE (p)-[:ACTED_IN]->(m))                             // Create an ACTED_IN relationship from the actor to the Movie\n",
    "            \n",
    "FOREACH (genre in split(row.genres, '|') |                  // For each genre in the list of genres from the row (split by '|')\n",
    "    MERGE (g:Genre {name:trim(genre)})                      // Merge a Genre node with the genre's name from the row, trimming any extra spaces\n",
    "    MERGE (m)-[:IN_GENRE]->(g))                             // Create an IN_GENRE relationship from the Movie to the Genre\n",
    "            \n",
    "MERGE (l:Location {name:trim(row.location)})\n",
    "MERGE (m)-[:WAS_TAKEN_IN]->(l)\n",
    "\n",
    "MERGE (s:SimilarMovie {name:trim(row.similar_movie)})\n",
    "MERGE (m)-[:IS_SIMILAR_TO]->(s)                                            \n",
    "\"\"\",\n",
    "params={\"data_url\": movie_data_url_github})            # Pass the parameter 'movie_directory' which contains the path to the CSV file"
   ]
  },
  {
   "cell_type": "code",
   "execution_count": 17,
   "id": "a5d44b0a",
   "metadata": {},
   "outputs": [
    {
     "name": "stdout",
     "output_type": "stream",
     "text": [
      "Node properties:\n",
      "Movie {id: STRING, released: DATE, title: STRING, tagline: STRING, imdbRating: FLOAT}\n",
      "Person {name: STRING}\n",
      "Genre {name: STRING}\n",
      "Location {name: STRING}\n",
      "SimilarMovie {name: STRING}\n",
      "Relationship properties:\n",
      "\n",
      "The relationships:\n",
      "(:Movie)-[:IN_GENRE]->(:Genre)\n",
      "(:Movie)-[:WAS_TAKEN_IN]->(:Location)\n",
      "(:Movie)-[:IS_SIMILAR_TO]->(:SimilarMovie)\n",
      "(:Person)-[:DIRECTED]->(:Movie)\n",
      "(:Person)-[:ACTED_IN]->(:Movie)\n"
     ]
    }
   ],
   "source": [
    "graph.refresh_schema()\n",
    "print(graph.schema)"
   ]
  },
  {
   "cell_type": "markdown",
   "id": "7b744597",
   "metadata": {},
   "source": [
    "**Check the number of nodes that were created from the data (original shape of data: `)**"
   ]
  },
  {
   "cell_type": "code",
   "execution_count": 18,
   "id": "e92ddb8a",
   "metadata": {},
   "outputs": [
    {
     "data": {
      "text/plain": [
       "[{'count(n)': 155}]"
      ]
     },
     "execution_count": 18,
     "metadata": {},
     "output_type": "execute_result"
    }
   ],
   "source": [
    "# Match all nodes in the graph\n",
    "cypher = \"\"\"\n",
    "  MATCH (n) \n",
    "  RETURN count(n)\n",
    "  \"\"\"\n",
    "result = graph.query(cypher)\n",
    "result"
   ]
  },
  {
   "cell_type": "code",
   "execution_count": null,
   "id": "8bfb57f2",
   "metadata": {},
   "outputs": [],
   "source": []
  }
 ],
 "metadata": {
  "kernelspec": {
   "display_name": "base",
   "language": "python",
   "name": "python3"
  },
  "language_info": {
   "codemirror_mode": {
    "name": "ipython",
    "version": 3
   },
   "file_extension": ".py",
   "mimetype": "text/x-python",
   "name": "python",
   "nbconvert_exporter": "python",
   "pygments_lexer": "ipython3",
   "version": "3.12.4"
  }
 },
 "nbformat": 4,
 "nbformat_minor": 5
}
